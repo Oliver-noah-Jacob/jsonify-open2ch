{
 "metadata": {
  "language_info": {
   "codemirror_mode": {
    "name": "ipython",
    "version": 3
   },
   "file_extension": ".py",
   "mimetype": "text/x-python",
   "name": "python",
   "nbconvert_exporter": "python",
   "pygments_lexer": "ipython3",
   "version": "3.8.5-final"
  },
  "orig_nbformat": 2,
  "kernelspec": {
   "name": "python3",
   "display_name": "Python 3"
  }
 },
 "nbformat": 4,
 "nbformat_minor": 2,
 "cells": [
  {
   "cell_type": "code",
   "execution_count": 1,
   "metadata": {},
   "outputs": [],
   "source": [
    "import re\n",
    "\n",
    "import requests\n",
    "import lxml.html"
   ]
  },
  {
   "cell_type": "code",
   "execution_count": 2,
   "metadata": {},
   "outputs": [],
   "source": [
    "def cleanup(l: list)->list:\n",
    "    \"cleanup list i.e. remove empty(falsy) item\"\n",
    "    return [\n",
    "        i for i in l if i\n",
    "    ]"
   ]
  },
  {
   "cell_type": "code",
   "execution_count": 3,
   "metadata": {},
   "outputs": [],
   "source": [
    "# get opunu\n",
    "opunu = requests.get(\"https://r.open2ch.net/list\")\n",
    "opunu_html = lxml.html.fromstring(opunu.text)"
   ]
  },
  {
   "cell_type": "code",
   "execution_count": 4,
   "metadata": {},
   "outputs": [],
   "source": [
    "re_dat=re.compile(r\"(^[0-9]+\\.dat).+\")\n",
    "re_title=re.compile(r\"<>(.+)\\s\")\n",
    "re_count=re.compile(r\"<>.+\\s\\(([0-9]+)\\)\")"
   ]
  },
  {
   "cell_type": "code",
   "execution_count": 5,
   "metadata": {},
   "outputs": [
    {
     "output_type": "stream",
     "name": "stdout",
     "text": [
      "{'1609418951.dat': {'title': '雑談スレ', 'res_count': '377'}, '1609418737.dat': {'title': 'winoosプロジェクト', 'res_count': '109'}, '1609592093.dat': {'title': 'あったらいい機能を書いてくスレ', 'res_count': '42'}, '1609515010.dat': {'title': 'なんでも質問すれ', 'res_count': '38'}, '1609592185.dat': {'title': '管理総合', 'res_count': '6'}, '1609510163.dat': {'title': 'Linux作る総合', 'res_count': '42'}, '1610280030.dat': {'title': 'マイPCにLinuxを入れて遊ぶやり方', 'res_count': '36'}, '1610224885.dat': {'title': 'Linuxってなんやねんゴミ共', 'res_count': '3'}}\n"
     ]
    }
   ],
   "source": [
    "# get thlead id\n",
    "target_thlead = \"Linux作る板\"\n",
    "for a in opunu_html.xpath(\"//div[@class='list']/a\"):\n",
    "    if a.attrib.get(\"title\") == target_thlead:\n",
    "        subject_url = a.attrib.get(\"href\") + \"/subject.txt\"\n",
    "        subject_list = requests.get(subject_url).text.split('\\n')\n",
    "        subject = {\n",
    "            re_dat.search(s).group(1) : {\n",
    "                \"title\" : re_title.search(s).group(1),\n",
    "                \"res_count\" : re_count.search(s).group(1)\n",
    "            } for s in cleanup(subject_list)\n",
    "        }\n",
    "        print(subject)\n",
    "        break\n",
    "else:\n",
    "    print(\"not found\")\n"
   ]
  }
 ]
}